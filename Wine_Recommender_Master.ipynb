{
 "cells": [
  {
   "cell_type": "markdown",
   "metadata": {},
   "source": [
    "# Wine Recommender"
   ]
  },
  {
   "cell_type": "markdown",
   "metadata": {},
   "source": [
    "## Introduction\n",
    "\n",
    "In this Project I will build and expand a cheese and wine pairings database with the high-level goal of linking wine varieties and recipe ingredients.\n",
    "We will collect our data by webscraping and collecting some datasets about recipes from Kaggle.\n",
    "\n",
    "In Phase 1 we will build a data-structure from the scraped data that we can use conviniently later to access information.\n",
    "\n",
    "In Phase 2 we will perform some exploratory analysis of the ingredients using a network structure to find ingredients which are most similar to each other and appear in similar cuisines.\n",
    "\n",
    "In Phase 3 we will put all of our analysis together to include a list of wine names that we can suggest based on the input ingredients. Eventually we will write a function which allows the user to input a list of ingredients and also a choice of ingredient category (such as \"Cheese/nuts\"), and outputs a list of all wine names that pair with these ingredients.\n"
   ]
  },
  {
   "cell_type": "markdown",
   "metadata": {},
   "source": [
    "## Phase 1 Building a data-structure\n",
    "\n",
    "A Google search on food and wine pairings turned up a literature Ph.D. candidate's blog post:\n",
    "+ http://sedimentality.com/drinking-wine/list-of-wine-and-food-pairings/\n",
    "\n",
    "This post is interesting, because instead of pairing dishes with wine vintages or brands, it pairs ingredients with wine varieties, tagging ingredients by several categories. Thus, I could pull the data from this website to join wine varieties from a large wine reviews database to ingredients in a large recipes database. My goal in this section is to collect the ingredient-variety-category data."
   ]
  },
  {
   "cell_type": "markdown",
   "metadata": {},
   "source": [
    "Lets download the blog post using the `requests` module and store the html response."
   ]
  },
  {
   "cell_type": "code",
   "execution_count": 2,
   "metadata": {},
   "outputs": [],
   "source": [
    "import requests\n",
    "htmlresponse = requests.get(\"http://sedimentality.com/drinking-wine/list-of-wine-and-food-pairings/\")\n",
    "htmltext = htmlresponse.text"
   ]
  },
  {
   "cell_type": "markdown",
   "metadata": {},
   "source": [
    "I will navigate to the same URL in my web browser, and identify where the target data are by inspecting the html and matching up tags with the target content."
   ]
  },
  {
   "cell_type": "markdown",
   "metadata": {},
   "source": [
    "The data that we need resides under the following hierarchy inside the body tag of the html file:\n",
    "div class = \"row\" (after menu end)\n",
    "div id = \"content\"\n",
    "div id  = \"top-content\"\n",
    "div id = \"post-4018\"\n",
    "div class = \"post_info_wrap\"\n",
    "\n",
    "Here, the headings/names of the wines are under h2 tags and the descriptions are under the p tags.\n",
    "\n"
   ]
  },
  {
   "cell_type": "markdown",
   "metadata": {},
   "source": [
    "I will now parse the html text with BeautifulSoup in preparation for scraping."
   ]
  },
  {
   "cell_type": "code",
   "execution_count": 5,
   "metadata": {
    "scrolled": true
   },
   "outputs": [
    {
     "data": {
      "text/plain": [
       "[<h2><strong>Sauvignon Blanc</strong></h2>,\n",
       " <p style=\"text-align: justify;\">This crisp, lighter white wine is known for having a high level of acidity and a lot of citrus. It is a great wine to pair with dishes that are lighter yet still packed full of flavor, and the herbaceous qualities often found in the wine often bring out the herbs in a dish. Here are some foods/flavors that go exceptionally well with Sauvignon Blanc:</p>,\n",
       " <p><strong>Cheese/nuts:</strong> feta, goat cheese, pine nuts</p>,\n",
       " <p><strong>Meat/poultry:</strong> chicken, turkey, pork</p>,\n",
       " <p><strong>Seafood:</strong> fatty white fish, oysters, scallops, lobster, shrimp, sushi</p>,\n",
       " <p><strong>Fruits and Veggies:</strong> citrus, green apple, asparagus</p>,\n",
       " <p><strong>Herbs and Spices:</strong> chives, tarragon, cilantro</p>,\n",
       " <p><strong>Sauces:</strong> citrus and light cream sauces</p>,\n",
       " <p><strong>Desserts:</strong> sorbet, key lime pie, meringue, mango</p>,\n",
       " <p style=\"text-align: justify;\">The most difficult thing about pairing Sauvignon Blanc? With this wine, I find that “like” does not always go with “like”: vinaigrette acidity kills the flavors of the wine and numbs the tart flavor in the vinaigrette.</p>,\n",
       " <p class=\"wp-caption-text\" id=\"caption-attachment-7280\">Photo by <a href=\"https://www.flickr.com/photos/aidanmorgan/4133084401/in/photolist-7ie8ZT-Tzg45-kozogM-kozmy8-koywJH-Xqe4X-koB4t3-kozq32-kozpbn-kozn1F-koB1k9-koAXSo-kozpWa-koyEnD-koAZrA-kozpLv-koznXv-koB4ZJ-koyyi4-koAZ2C-kozxYx-koyHf2-kozvr8-9ZuZDx-9ZymCJ-4b1Hb-6CtvD-4WJDCj-fANUKR-fANUKe-fANUFr-fANUHe-fANUHi-fANUDB-4obCbZ-aKEspV-aKEt5T-aKEs2M-aKEsd4-96eR3Q-5ADf5D-oThso-qXGEd2-d4NS85-5GR4xW-8osziE-Txrhi-6SCab1-7x4jqn-d4NSgC\" rel=\"noopener noreferrer\" target=\"_blank\">John Morgan</a></p>,\n",
       " <h2><strong>Chardonnay</strong></h2>,\n",
       " <p style=\"text-align: justify;\">Chardonnay can be made into many styles, and this should always be kept in mind when pairing the wine with food. Are you drinking a full-bodied, California-style Chardonnay with a lot of oak and butter presence, or one that is lighter on the oak . . . or maybe not even aged in oak at all? Make sure you factor this in to your pairings.</p>,\n",
       " <p style=\"text-align: justify;\">The best thing about Chardonnay? It’s a decadent wine with sensual body, so it stands up against dishes and flavors when other white wines might fall flat. Despite its body, it still has great acidity, making it perfect for cutting the richness of cream dishes.</p>,\n",
       " <p style=\"text-align: justify;\"><strong>Cheese:</strong> mild, semi-soft cheeses with unoaked Chardonnay; asiago, havarti, Stilton or other blue-veined cheeses with oaky Chardonnay</p>,\n",
       " <p style=\"text-align: justify;\"><strong>Nuts:</strong> almonds and nearly any<strong> toasted</strong> nut</p>,\n",
       " <p><strong>Meat/poultry:</strong> veal, chicken, pork</p>,\n",
       " <p><strong>Seafood:</strong> halibut, shrimp, crab, lobster</p>,\n",
       " <p><strong>Fruits and Veggies:</strong> potato, apple, squash, mango</p>,\n",
       " <p><strong>Herbs and Spices:</strong> tarragon, sesame, basil</p>]"
      ]
     },
     "execution_count": 5,
     "metadata": {},
     "output_type": "execute_result"
    }
   ],
   "source": [
    "from bs4 import BeautifulSoup \n",
    "parse = BeautifulSoup(htmltext, 'html.parser')\n",
    "h2p = parse.find_all([\"h2\", \"p\"])[5:]\n",
    "h2p[:20]"
   ]
  },
  {
   "cell_type": "markdown",
   "metadata": {},
   "source": [
    "Using regex I will identify the tags that contain h2 or p-strong. The h2 tags will be the wines and the p-strong will be the pairing ingredients. Although i do notice that some ingredients have style embedded before strong so i will have to use a regex that identifies anything before strong as well. Then I will create a dictionary that will contain the wines as the keys. The values of each wine will be again a dictionary with the type of ingredients as keys and the list of ingredients as their values."
   ]
  },
  {
   "cell_type": "code",
   "execution_count": 23,
   "metadata": {},
   "outputs": [],
   "source": [
    "from collections import defaultdict \n",
    "winedict = defaultdict(dict)"
   ]
  },
  {
   "cell_type": "code",
   "execution_count": 40,
   "metadata": {
    "scrolled": true
   },
   "outputs": [
    {
     "data": {
      "text/plain": [
       "[('Sauvignon Blanc',\n",
       "  {'Cheese/nuts': ['feta', 'goat cheese', 'pine nuts'],\n",
       "   'Meat/poultry': ['chicken', 'turkey', 'pork'],\n",
       "   'Seafood': ['fatty white fish',\n",
       "    'oysters',\n",
       "    'scallops',\n",
       "    'lobster',\n",
       "    'shrimp',\n",
       "    'sushi'],\n",
       "   'Fruits and Veggies': ['citrus', 'green apple', 'asparagus'],\n",
       "   'Herbs and Spices': ['chives', 'tarragon', 'cilantro'],\n",
       "   'Sauces': ['citrus and light cream sauces'],\n",
       "   'Desserts': ['sorbet', 'key lime pie', 'meringue', 'mango']}),\n",
       " ('Chardonnay',\n",
       "  {'Cheese': ['mild',\n",
       "    'semi-soft cheeses with unoaked Chardonnay; asiago',\n",
       "    'havarti',\n",
       "    'Stilton or other blue-veined cheeses with oaky Chardonnay'],\n",
       "   'Nuts': ['almonds and nearly any toasted nut'],\n",
       "   'Meat/poultry': ['veal', 'chicken', 'pork'],\n",
       "   'Seafood': ['halibut', 'shrimp', 'crab', 'lobster'],\n",
       "   'Fruits and Veggies': ['potato', 'apple', 'squash', 'mango'],\n",
       "   'Herbs and Spices': ['tarragon', 'sesame', 'basil'],\n",
       "   'Sauces': ['cream sauces', 'pesto'],\n",
       "   'Desserts': ['banana bread', 'vanilla pudding']}),\n",
       " ('Riesling',\n",
       "  {'Cheese/nust': ['Havarti', 'gouda', 'candied walnuts or pecans'],\n",
       "   'Meat/poultry': ['smoked sausage', 'duck', 'foie gras'],\n",
       "   'Seafood': ['sea bass', 'trout'],\n",
       "   'Fruits and Veggies': ['apricots', 'chili peppers', 'pears'],\n",
       "   'Herbs and Spices': ['rosemary', 'ginger', 'Thai or Indian spices'],\n",
       "   'Sauces': ['BBQ', 'spicy', 'chutney'],\n",
       "   'Desserts': ['apple pie', 'caramel sauce']})]"
      ]
     },
     "execution_count": 40,
     "metadata": {},
     "output_type": "execute_result"
    }
   ],
   "source": [
    "import re\n",
    "#wine = \"\"\n",
    "for tag in h2p:\n",
    "    strtag = str(tag)\n",
    "    \n",
    "    if re.findall('<h2>', strtag):\n",
    "        wine = tag.text\n",
    "    if re.findall(r'<p.+<strong>', strtag):\n",
    "        ingredients = {}\n",
    "        ingtype = tag.text.split(\":\")[0] #extract type of ingredient\n",
    "        inglist = tag.text.split(\":\")[1].split(\",\") #create list of ingredients\n",
    "        inglist = [x.strip() for x in inglist] #remove spaces from ingredients\n",
    "        #ingredients[ingtype] = inglist\n",
    "        winedict[wine][ingtype] = inglist\n",
    "#winedict\n",
    "limit1 = winedict.items()\n",
    "list(limit1)[:3]"
   ]
  },
  {
   "cell_type": "markdown",
   "metadata": {},
   "source": [
    "I will write my data out to a json file."
   ]
  },
  {
   "cell_type": "code",
   "execution_count": 5,
   "metadata": {},
   "outputs": [],
   "source": [
    "import json\n",
    "json.dump(winedict, open(\"./data/wine_ingredient-pairings.json\", \"w\"))"
   ]
  },
  {
   "cell_type": "markdown",
   "metadata": {},
   "source": [
    "### Limitations with the dataset"
   ]
  },
  {
   "cell_type": "markdown",
   "metadata": {},
   "source": [
    "The limitations we observed was that the data is inconsistent. The categories are not all consistent. While some wines have seperate nuts and cheese sections, others have nut/cheese section. Another problem was that some ingredients could not be seperated as a list item becasue they are mentioned succeeding words such as \"and\", \"or\" and \"with\". We tried to split those using regex but that was splitting all the other words such as \"pork\" as well because it contains the split parameter. "
   ]
  },
  {
   "cell_type": "markdown",
   "metadata": {},
   "source": [
    "## Phase 2: Network and exploratory data analysis"
   ]
  },
  {
   "cell_type": "markdown",
   "metadata": {},
   "source": [
    "### Exploring a network of ingredients\n",
    "In this section I am going to experiment with some recipes data, but think of them as a network. These data can be obtained from Kaggle:\n",
    "\n",
    "- https://www.kaggle.com/kaggle/recipe-ingredients-dataset"
   ]
  },
  {
   "cell_type": "markdown",
   "metadata": {},
   "source": [
    "To start, I will write a function called `read_recipes`, which takes a string argument called `path_to_recipes_json` that contains the path to a json file containing recipe data. The function should use the `json` package to load the data and then return `recipes`, which will be a list of dictionaries containing the converted json data."
   ]
  },
  {
   "cell_type": "code",
   "execution_count": 27,
   "metadata": {},
   "outputs": [
    {
     "name": "stdout",
     "output_type": "stream",
     "text": [
      "{'id': 10259, 'cuisine': 'greek', 'ingredients': ['romaine lettuce', 'black olives', 'grape tomatoes', 'garlic', 'pepper', 'purple onion', 'seasoning', 'garbanzo beans', 'feta cheese crumbles']} \n",
      "\n",
      "{'id': 25693, 'cuisine': 'southern_us', 'ingredients': ['plain flour', 'ground pepper', 'salt', 'tomatoes', 'ground black pepper', 'thyme', 'eggs', 'green tomatoes', 'yellow corn meal', 'milk', 'vegetable oil']} \n",
      "\n",
      "{'id': 20130, 'cuisine': 'filipino', 'ingredients': ['eggs', 'pepper', 'salt', 'mayonaise', 'cooking oil', 'green chilies', 'grilled chicken breasts', 'garlic powder', 'yellow onion', 'soy sauce', 'butter', 'chicken livers']} \n",
      "\n"
     ]
    }
   ],
   "source": [
    "import json\n",
    "\n",
    "def read_recipes(path_to_recipes_json):\n",
    "    with open(path_to_recipes_json, \"r\") as file_handle:\n",
    "    ## load the JSON representation of our data\n",
    "        JSON_data = file_handle.read()\n",
    "    ## convert the JSON into a Python object\n",
    "    recipes = json.loads(JSON_data)\n",
    "    return recipes\n",
    "#call the function\n",
    "recipes = read_recipes('./data/train.json')\n",
    "for recipe in recipes[:3]:\n",
    "    print(recipe,\"\\n\")"
   ]
  },
  {
   "cell_type": "markdown",
   "metadata": {},
   "source": [
    "Now I will write a function called `create_recipe_graph` that takes the output from the `read_recipes` function (i.e., `recipe_data`) and builds an _undirected_ network representation of the ingredients data using the NetworkX module. The output of this function should be a graph where nodes represent ingredients and for each pair of ingredients that appear in the same recipe there should be a link between them. Note that output graph should be of the NetworkX `.Graph()` type."
   ]
  },
  {
   "cell_type": "code",
   "execution_count": 28,
   "metadata": {},
   "outputs": [
    {
     "name": "stdout",
     "output_type": "stream",
     "text": [
      "('feta cheese crumbles', 'romaine lettuce')\n",
      "('feta cheese crumbles', 'black olives')\n",
      "('feta cheese crumbles', 'garlic')\n",
      "('feta cheese crumbles', 'pepper')\n",
      "('feta cheese crumbles', 'seasoning')\n",
      "('feta cheese crumbles', 'feta cheese crumbles')\n",
      "('feta cheese crumbles', 'olive oil')\n",
      "('feta cheese crumbles', 'hamburger buns')\n",
      "('feta cheese crumbles', 'chopped fresh mint')\n",
      "('feta cheese crumbles', 'ground cinnamon')\n",
      "('feta cheese crumbles', 'tomatoes')\n",
      "('feta cheese crumbles', 'extra-virgin olive oil')\n",
      "('feta cheese crumbles', 'cucumber')\n",
      "('feta cheese crumbles', 'capers')\n",
      "('feta cheese crumbles', 'kalamata')\n",
      "('feta cheese crumbles', 'chopped parsley')\n",
      "('feta cheese crumbles', 'fresh rosemary')\n",
      "('feta cheese crumbles', 'onions')\n",
      "('feta cheese crumbles', 'minced garlic')\n",
      "('feta cheese crumbles', 'yellow bell pepper')\n"
     ]
    }
   ],
   "source": [
    "import networkx as nx\n",
    "\n",
    "def create_recipe_graph(recipe_data):\n",
    "\n",
    "    inlist  = [] #create a list with all the ingredients\n",
    "    for i in recipe_data:\n",
    "        inlist.append(i[\"ingredients\"])\n",
    "    inset = set() #create a set so duplicate ingredients are eleminated\n",
    "    for i in inlist:\n",
    "        inset.update(i)\n",
    "    \n",
    "    graph = nx.Graph() #initiate Graph\n",
    "    graph.add_nodes_from(list(inset)) #add nodes\n",
    "    for i in inlist: #go over each list in inlist\n",
    "        for item in i: #go over each item in the list\n",
    "            for items in i: #hold that item and add all the items in that list\n",
    "                graph.add_edge(item,items)\n",
    "\n",
    "    return graph\n",
    "\n",
    "#Test the function\n",
    "recipe_graph = create_recipe_graph(recipes)\n",
    "lines = 0\n",
    "for edge in recipe_graph.edges:\n",
    "    if edge[0] == \"feta cheese crumbles\":\n",
    "        print(edge)\n",
    "        lines +=1\n",
    "        if (lines == 20):\n",
    "            break;"
   ]
  },
  {
   "cell_type": "markdown",
   "metadata": {},
   "source": [
    "I will utilize NetworkX and the ingredients network and find the node degrees, i.e., numbers of connections to other ingredients across the recipes."
   ]
  },
  {
   "cell_type": "markdown",
   "metadata": {},
   "source": [
    "Get the average degree of the nodes in the graph"
   ]
  },
  {
   "cell_type": "code",
   "execution_count": 8,
   "metadata": {},
   "outputs": [
    {
     "data": {
      "text/plain": [
       "144.96127494787012"
      ]
     },
     "execution_count": 8,
     "metadata": {},
     "output_type": "execute_result"
    }
   ],
   "source": [
    "import numpy as np\n",
    "deg_arr = np.array([i[1] for i in recipe_graph.degree])\n",
    "np.mean(deg_arr)"
   ]
  },
  {
   "cell_type": "markdown",
   "metadata": {},
   "source": [
    "Get the median degree of the nodes in the graph"
   ]
  },
  {
   "cell_type": "code",
   "execution_count": 9,
   "metadata": {},
   "outputs": [
    {
     "data": {
      "text/plain": [
       "40.0"
      ]
     },
     "execution_count": 9,
     "metadata": {},
     "output_type": "execute_result"
    }
   ],
   "source": [
    "np.median(deg_arr)"
   ]
  },
  {
   "cell_type": "markdown",
   "metadata": {},
   "source": [
    "Get a list of the top five ingredients by degree"
   ]
  },
  {
   "cell_type": "code",
   "execution_count": 10,
   "metadata": {},
   "outputs": [
    {
     "data": {
      "text/plain": [
       "[('salt', 4881),\n",
       " ('water', 3894),\n",
       " ('onions', 3663),\n",
       " ('garlic', 3545),\n",
       " ('sugar', 3437)]"
      ]
     },
     "execution_count": 10,
     "metadata": {},
     "output_type": "execute_result"
    }
   ],
   "source": [
    "top = sorted(recipe_graph.degree, key = lambda x:x[1], reverse = True)\n",
    "top[:5]"
   ]
  },
  {
   "cell_type": "markdown",
   "metadata": {},
   "source": [
    "The top five ingredients are pretty ubiquitous in recipes, and this not too surprising. This is good&mdash;it makes sense that ingrediernts like `'salt'` would be connected to many other, i.e., in most other recipes. "
   ]
  },
  {
   "cell_type": "markdown",
   "metadata": {},
   "source": [
    "Now, I will write a function called `get_degree_numbers_and_counts` that accepts a NetworkX `graph` (the output from your `create_recipe_graph` function). This function should compute the degrees of each node in the graph and for each degree $k$, it counts up the number of nodes $n_k$ that have degree $k$. It should then store the unique values of $k$ in a list called `degree_numbers` and the corresponding values $n_k$ in a list called `degree_counts`, sort these two lists in order of decreasing $k$, and return them as a tuple: `(degree_numbers, degree_counts)`. "
   ]
  },
  {
   "cell_type": "code",
   "execution_count": 11,
   "metadata": {},
   "outputs": [],
   "source": [
    "from collections import Counter\n",
    "\n",
    "def get_degree_numbers_and_counts(graph):\n",
    "    \n",
    "    degree_numbers = sorted(set([i[1] for i in recipe_graph.degree]), reverse = True)\n",
    "    \n",
    "    counts = Counter([i[1] for i in recipe_graph.degree])\n",
    "    degree_counts = []\n",
    "    for i in degree_numbers:\n",
    "        degree_counts.append(counts[i])\n",
    "\n",
    "    degree_numbers\n",
    "    \n",
    "    return degree_numbers, degree_counts"
   ]
  },
  {
   "cell_type": "markdown",
   "metadata": {},
   "source": [
    "Let's apply your function to get the degree_numbers and degree_counts for our recipe_graph and then look at the top five degree numbers and degree counts."
   ]
  },
  {
   "cell_type": "code",
   "execution_count": 12,
   "metadata": {},
   "outputs": [
    {
     "data": {
      "text/plain": [
       "([4881, 3894, 3663, 3545, 3437], [1, 1, 1, 1, 1])"
      ]
     },
     "execution_count": 12,
     "metadata": {},
     "output_type": "execute_result"
    }
   ],
   "source": [
    "degree_numbers, degree_counts = get_degree_numbers_and_counts(recipe_graph)    \n",
    "degree_numbers[:5], degree_counts[:5]"
   ]
  },
  {
   "cell_type": "markdown",
   "metadata": {},
   "source": [
    "Lets look at the the top five most common degree numbers (the mode)"
   ]
  },
  {
   "cell_type": "code",
   "execution_count": 13,
   "metadata": {},
   "outputs": [
    {
     "name": "stdout",
     "output_type": "stream",
     "text": [
      "15\n",
      "12\n",
      "11\n",
      "10\n",
      "14\n"
     ]
    }
   ],
   "source": [
    "\n",
    "topcounts = sorted(degree_counts, reverse = True)\n",
    "for count, i in enumerate(topcounts):\n",
    "    print(degree_numbers[degree_counts.index(i)])\n",
    "    if count == 4:\n",
    "        break;"
   ]
  },
  {
   "cell_type": "markdown",
   "metadata": {},
   "source": [
    "Our next job is to create a function called `plot_degree_numbers_and_counts` that takes  `degree_numbers` and `degree_counts` (e.g., like the data you generated in _C4_) and outputs a matplotlib scatter plot visualizing the _logarithms_ of these values, using the numpy utility `np.log10()` on each. The x-axis of the figure should be $Log_{10}($num nodes$)$ and the y-axis should be the $Log_{10}($degree$)$."
   ]
  },
  {
   "cell_type": "code",
   "execution_count": 14,
   "metadata": {},
   "outputs": [],
   "source": [
    "%matplotlib inline\n",
    "from matplotlib import pyplot as plt\n",
    "\n",
    "def plot_degree_numbers_and_counts(degree_numbers, degree_counts):\n",
    "    \n",
    "    fig = plt.figure(figsize = (5,5))\n",
    "    x = np.log10(np.array(degree_numbers))\n",
    "    y = np.log10(np.array(degree_counts))\n",
    "    plt.scatter(x, y, s = 10, marker = '.', color = 'k')\n",
    "    plt.xlabel(\"$Log_{10}($degree$)$\", size = 15)\n",
    "    plt.ylabel(\"$Log_{10}($num nodes$)$\", size = 15)\n",
    "    \n",
    "    return fig"
   ]
  },
  {
   "cell_type": "code",
   "execution_count": 15,
   "metadata": {},
   "outputs": [
    {
     "data": {
      "image/png": "[encoded data removed]",
      "text/plain": [
       "<Figure size 360x360 with 1 Axes>"
      ]
     },
     "metadata": {
      "needs_background": "light"
     },
     "output_type": "display_data"
    }
   ],
   "source": [
    "#Run the funtion\n",
    "fig = plot_degree_numbers_and_counts(degree_numbers, degree_counts)"
   ]
  },
  {
   "cell_type": "markdown",
   "metadata": {},
   "source": [
    "For a given node $u$ in our network $G$, let $\\Gamma(u)$ denote the set of $u$'s neighbors, i.e., set of nodes linked to $u$.\n",
    "\n",
    "In this part, we'll be utilizing the Jaccard coefficient similarity function on neighborhoods of nodes to determine the foods most likely to link to one anothers, i.e., appear in a recipe together heretofore unseen.\n",
    "\n",
    "In particular, the Jaccard coefficient of nodes $u$ and $v$ is defined as\n",
    "\n",
    "$$\\frac{|\\Gamma(u) \\cap \\Gamma(v)|}{|\\Gamma(u) \\cup \\Gamma(v)|}$$\n",
    "\n",
    "where $\\Gamma(u)$ denotes the set of neighbors of $u$ and can be computed through networkx utilizing the `nx.jaccard_coefficient(G, ebunch=None)` utility.\n",
    "\n",
    "Lets apply the `nx.jaccard_coefficient()` function to a few seemingly dispirate and a few seemingly similar ingredients (to your sensibilities)."
   ]
  },
  {
   "cell_type": "markdown",
   "metadata": {},
   "source": [
    "Lets look at the Jaccard coefficient between Salmon and Chocolate"
   ]
  },
  {
   "cell_type": "code",
   "execution_count": 16,
   "metadata": {},
   "outputs": [
    {
     "name": "stdout",
     "output_type": "stream",
     "text": [
      "salmon chocolate 0.08352668213457076\n"
     ]
    }
   ],
   "source": [
    "\n",
    "jac = nx.jaccard_coefficient(recipe_graph, ebunch=[(\"salmon\", \"chocolate\")])\n",
    "for u, v, p in jac:\n",
    "    print(u, v, p)"
   ]
  },
  {
   "cell_type": "markdown",
   "metadata": {},
   "source": [
    "Lets look at the Jaccard coefficient between Coffee and Chocolate"
   ]
  },
  {
   "cell_type": "code",
   "execution_count": 17,
   "metadata": {},
   "outputs": [
    {
     "name": "stdout",
     "output_type": "stream",
     "text": [
      "coffee chocolate 0.22459893048128343\n"
     ]
    }
   ],
   "source": [
    "# C6:Inline(1/3)\n",
    "jac = nx.jaccard_coefficient(recipe_graph, ebunch=[(\"coffee\", \"chocolate\")])\n",
    "for u, v, p in jac:\n",
    "    print(u, v, p)"
   ]
  },
  {
   "cell_type": "markdown",
   "metadata": {},
   "source": [
    "We can see that the two ingredients we think of as more similar \"coffee\" and \"chocolate\" have a higher similarity score than those we think of as less similar."
   ]
  },
  {
   "cell_type": "markdown",
   "metadata": {},
   "source": [
    "Next, lets write a function called `unlinked`, which takes a NetworkX `graph` and the name of a node in the graph (`node_name`). This function should create a list of node `names` using the `graph.nodes()` method and corresponding adjacency matrtix from `nx.to_numpy_matrix(...)`. The function should then return a list of the names of all other nodes (ingredients) for which the node (queried ingredient, `node_name`) shares no link."
   ]
  },
  {
   "cell_type": "code",
   "execution_count": 18,
   "metadata": {},
   "outputs": [],
   "source": [
    "def unlinked(graph, node_name):\n",
    "    names = list(graph.nodes())\n",
    "    indx = names.index(node_name)\n",
    "    unlinked_nodes = []\n",
    "    mat = np.array(nx.to_numpy_matrix(graph))\n",
    "    for count, i in enumerate(mat[indx]):\n",
    "        if i == 0:\n",
    "            unlinked_nodes.append(names[count])\n",
    "    return unlinked_nodes"
   ]
  },
  {
   "cell_type": "markdown",
   "metadata": {},
   "source": [
    "Let's test this function by using it to evaluate the outputs for 'salt' and 'chocolate'. Let's also look at the size of the outputs for each."
   ]
  },
  {
   "cell_type": "code",
   "execution_count": 19,
   "metadata": {},
   "outputs": [
    {
     "name": "stdout",
     "output_type": "stream",
     "text": [
      "Unlinked from salt: ['hibiscus', 'lamb racks', 'blood sausage', 'gluten-free penne', 'margarine spread']\n",
      "Unlinked from chocolate: ['savory', 'peppered bacon', 'mandarin orange segments', 'white vinegar', 'snip fresh dill']\n",
      "\n",
      "# of nodes unlinked from salt: 1834\n",
      "# of nodes unlinked from chocolate: 6515\n"
     ]
    }
   ],
   "source": [
    "#Run the function\n",
    "unlinked_from_salt = unlinked(recipe_graph, \"salt\")\n",
    "unlinked_from_chocolate = unlinked(recipe_graph, \"chocolate\")\n",
    "\n",
    "print(\"Unlinked from salt:\", unlinked_from_salt[:5])\n",
    "print(\"Unlinked from chocolate:\", unlinked_from_chocolate[:5])\n",
    "print()\n",
    "print(\"# of nodes unlinked from salt: {}\".format(len(unlinked_from_salt)))\n",
    "print(\"# of nodes unlinked from chocolate: {}\".format(len(unlinked_from_chocolate)))"
   ]
  },
  {
   "cell_type": "markdown",
   "metadata": {},
   "source": [
    "It makes sense that the items such as ginger beer listed above would be unlinked from salt and pork meat would be unlinked from chocolate "
   ]
  },
  {
   "cell_type": "markdown",
   "metadata": {},
   "source": [
    "Finally, I will write a function called `likely_ingredients` that takes two arguments, a networkx `graph` and the name of a node (`node_name`). Given these inputs the function should apply the `unlinked` function to compute all the nodes that are unlinked from the target node. Then the function should use the `nx.jaccard_coefficient(...)` function to compute the jaccard coefficient between our target node and each of the nodes in its unlinked list. Finally, the function should sort these values by the Jaccard coefficient and return the resulting list (`sorted_similarities`)."
   ]
  },
  {
   "cell_type": "code",
   "execution_count": 20,
   "metadata": {},
   "outputs": [],
   "source": [
    "def likely_ingredients(graph, node_name):\n",
    "    unl_list = unlinked(graph,node_name)\n",
    "    similarities = []\n",
    "    for i in unl_list:\n",
    "        jac = nx.jaccard_coefficient(graph, ebunch=[(node_name, i)])\n",
    "        for u, v, p in jac:\n",
    "            similarities.append((u, v, p))\n",
    "    sorted_similarities = sorted(similarities, key = lambda x:x[2], reverse = True)\n",
    "    return sorted_similarities"
   ]
  },
  {
   "cell_type": "markdown",
   "metadata": {},
   "source": [
    "Now, let's test our functinon by using it to compute the top 5 most similar unlinked nodes for \"whisky\" and \"chocolate\".\n"
   ]
  },
  {
   "cell_type": "code",
   "execution_count": 21,
   "metadata": {},
   "outputs": [
    {
     "name": "stdout",
     "output_type": "stream",
     "text": [
      "[('whiskey', 'apple cider', 0.25663716814159293),\n",
      " ('whiskey', 'Irish whiskey', 0.24489795918367346),\n",
      " ('whiskey', 'firmly packed light brown sugar', 0.24203821656050956),\n",
      " ('whiskey', 'dark corn syrup', 0.24124513618677043),\n",
      " ('whiskey', 'pitted date', 0.24)]\n",
      "\n",
      "[('chocolate', 'instant espresso powder', 0.2540192926045016),\n",
      " ('chocolate', 'whole almonds', 0.24731182795698925),\n",
      " ('chocolate', 'mexican chocolate', 0.23825503355704697),\n",
      " ('chocolate', 'semi-sweet chocolate morsels', 0.23636363636363636),\n",
      " ('chocolate', 'coffee liqueur', 0.2283464566929134)]\n"
     ]
    }
   ],
   "source": [
    "from pprint import pprint\n",
    "pprint(likely_ingredients(recipe_graph, \"whiskey\")[:5])\n",
    "print()\n",
    "pprint(likely_ingredients(recipe_graph, \"chocolate\")[:5])"
   ]
  },
  {
   "cell_type": "markdown",
   "metadata": {},
   "source": [
    "This analysis provides information useful for determining substitutions and constructing new recipe pairings"
   ]
  },
  {
   "cell_type": "markdown",
   "metadata": {},
   "source": [
    "## Phase 3: Connecting Ingredients with Wines"
   ]
  },
  {
   "cell_type": "markdown",
   "metadata": {},
   "source": [
    "Lets read the recipes file again as cuisines"
   ]
  },
  {
   "cell_type": "code",
   "execution_count": 33,
   "metadata": {},
   "outputs": [
    {
     "data": {
      "text/plain": [
       "[{'id': 10259,\n",
       "  'cuisine': 'greek',\n",
       "  'ingredients': ['romaine lettuce',\n",
       "   'black olives',\n",
       "   'grape tomatoes',\n",
       "   'garlic',\n",
       "   'pepper',\n",
       "   'purple onion',\n",
       "   'seasoning',\n",
       "   'garbanzo beans',\n",
       "   'feta cheese crumbles']},\n",
       " {'id': 25693,\n",
       "  'cuisine': 'southern_us',\n",
       "  'ingredients': ['plain flour',\n",
       "   'ground pepper',\n",
       "   'salt',\n",
       "   'tomatoes',\n",
       "   'ground black pepper',\n",
       "   'thyme',\n",
       "   'eggs',\n",
       "   'green tomatoes',\n",
       "   'yellow corn meal',\n",
       "   'milk',\n",
       "   'vegetable oil']},\n",
       " {'id': 20130,\n",
       "  'cuisine': 'filipino',\n",
       "  'ingredients': ['eggs',\n",
       "   'pepper',\n",
       "   'salt',\n",
       "   'mayonaise',\n",
       "   'cooking oil',\n",
       "   'green chilies',\n",
       "   'grilled chicken breasts',\n",
       "   'garlic powder',\n",
       "   'yellow onion',\n",
       "   'soy sauce',\n",
       "   'butter',\n",
       "   'chicken livers']}]"
      ]
     },
     "execution_count": 33,
     "metadata": {},
     "output_type": "execute_result"
    }
   ],
   "source": [
    "cuisines = json.load(open(\"./data/train.json\", \"r\"))\n",
    "cuisines[:3]"
   ]
  },
  {
   "cell_type": "markdown",
   "metadata": {},
   "source": [
    "We will expand each wine variety's list of foods to include any co-appearing in the recipes found in the above Kaggle dataset. Make sure to record how often ingredients in the Kaggle recipes occured alongside foods in the wine variety list.\n"
   ]
  },
  {
   "cell_type": "code",
   "execution_count": 41,
   "metadata": {},
   "outputs": [
    {
     "data": {
      "text/plain": [
       "[('Sauvignon Blanc',\n",
       "  {'Cheese/nuts': {'feta': 0, 'goat cheese': 169, 'pine nuts': 0},\n",
       "   'Meat/poultry': {'chicken': 982, 'turkey': 62, 'pork': 300},\n",
       "   'Seafood': {'fatty white fish': 0,\n",
       "    'oysters': 60,\n",
       "    'scallops': 38,\n",
       "    'lobster': 50,\n",
       "    'shrimp': 912,\n",
       "    'sushi': 0},\n",
       "   'Fruits and Veggies': {'citrus': 2, 'green apple': 0, 'asparagus': 230},\n",
       "   'Herbs and Spices': {'chives': 206, 'tarragon': 35, 'cilantro': 1142},\n",
       "   'Sauces': {'citrus and light cream sauces': 0},\n",
       "   'Desserts': {'sorbet': 7, 'key lime pie': 0, 'meringue': 9, 'mango': 268}}),\n",
       " ('Chardonnay',\n",
       "  {'Cheese': {'mild': 0,\n",
       "    'semi-soft cheeses with unoaked Chardonnay; asiago': 0,\n",
       "    'havarti': 1,\n",
       "    'Stilton or other blue-veined cheeses with oaky Chardonnay': 0},\n",
       "   'Nuts': {'almonds and nearly any toasted nut': 0},\n",
       "   'Meat/poultry': {'veal': 31, 'chicken': 982, 'pork': 300},\n",
       "   'Seafood': {'halibut': 26, 'shrimp': 912, 'crab': 37, 'lobster': 50},\n",
       "   'Fruits and Veggies': {'potato': 0, 'apple': 0, 'squash': 32, 'mango': 268},\n",
       "   'Herbs and Spices': {'tarragon': 35, 'sesame': 26, 'basil': 282},\n",
       "   'Sauces': {'cream sauces': 0, 'pesto': 118},\n",
       "   'Desserts': {'banana bread': 1, 'vanilla pudding': 5}}),\n",
       " ('Riesling',\n",
       "  {'Cheese/nust': {'Havarti': 0, 'gouda': 5, 'candied walnuts or pecans': 0},\n",
       "   'Meat/poultry': {'smoked sausage': 139, 'duck': 49, 'foie gras': 12},\n",
       "   'Seafood': {'sea bass': 19, 'trout': 9},\n",
       "   'Fruits and Veggies': {'apricots': 34, 'chili peppers': 0, 'pears': 97},\n",
       "   'Herbs and Spices': {'rosemary': 107,\n",
       "    'ginger': 1755,\n",
       "    'Thai or Indian spices': 0},\n",
       "   'Sauces': {'BBQ': 0, 'spicy': 0, 'chutney': 53},\n",
       "   'Desserts': {'apple pie': 0, 'caramel sauce': 19}})]"
      ]
     },
     "execution_count": 41,
     "metadata": {},
     "output_type": "execute_result"
    }
   ],
   "source": [
    "from collections import Counter\n",
    "ingredients = []\n",
    "#count up all the ingredients in the cuisine dictionary\n",
    "for i in cuisines:\n",
    "    for j in i[\"ingredients\"]:\n",
    "        ingredients.append(j)\n",
    "    \n",
    "ingcount = Counter(ingredients)\n",
    "\n",
    "wines = dict(winedict)\n",
    "pairings = []\n",
    "for wine in wines:\n",
    "    for cat in wines[wine]:\n",
    "        templist = wines[wine][cat]\n",
    "        wines[wine][cat] = {}\n",
    "        for i in templist:\n",
    "            if i in ingcount.elements():\n",
    "                wines[wine][cat][i] = ingcount[i]\n",
    "            else:\n",
    "                wines[wine][cat][i] = 0            \n",
    "#wines\n",
    "limit2 = wines.items()\n",
    "list(limit2)[:3]"
   ]
  },
  {
   "cell_type": "markdown",
   "metadata": {},
   "source": [
    "We'd also like to incorporate a wine review dataset. Lets download the dataset, found at: https://www.kaggle.com/zynicide/wine-reviews. Specifically, we will utilize the file: `winemag-data-130k-v2.csv` to link each of the scraped wines found in `wines` to the specific names of the wines which are of that variety (i.e., for the Sauvignon wine, we'll create a list of all the wines with `variety` column that say Sauvignon, and attach them to the `wines` object from before)."
   ]
  },
  {
   "cell_type": "code",
   "execution_count": 45,
   "metadata": {},
   "outputs": [
    {
     "data": {
      "text/plain": [
       "[('Sauvignon Blanc',\n",
       "  {'Cheese/nuts': {'feta': 0, 'goat cheese': 169, 'pine nuts': 0},\n",
       "   'Meat/poultry': {'chicken': 982, 'turkey': 62, 'pork': 300},\n",
       "   'Seafood': {'fatty white fish': 0,\n",
       "    'oysters': 60,\n",
       "    'scallops': 38,\n",
       "    'lobster': 50,\n",
       "    'shrimp': 912,\n",
       "    'sushi': 0},\n",
       "   'Fruits and Veggies': {'citrus': 2, 'green apple': 0, 'asparagus': 230},\n",
       "   'Herbs and Spices': {'chives': 206, 'tarragon': 35, 'cilantro': 1142},\n",
       "   'Sauces': {'citrus and light cream sauces': 0},\n",
       "   'Desserts': {'sorbet': 7, 'key lime pie': 0, 'meringue': 9, 'mango': 268},\n",
       "   'Names': ['Envolve 2011 Sauvignon Blanc (Sonoma Valley)',\n",
       "    'Robert Hall 2011 Sauvignon Blanc (Paso Robles)',\n",
       "    'Trump 2011 Sauvignon Blanc (Monticello)',\n",
       "    'Sevtap 2015 Golden Horn Sauvignon Blanc (Santa Ynez Valley)',\n",
       "    'Stoneleigh 2008 Sauvignon Blanc (Marlborough)',\n",
       "    'Long Flat 2006 Destinations Sauvignon Blanc (Adelaide Hills)',\n",
       "    'Elena Walch 2002 Castel Ringberg Sauvignon Blanc (Alto Adige)',\n",
       "    'Borgo Conventi 2002 I Fiori del Borgo Sauvignon Blanc (Collio)',\n",
       "    \"Ceago Vinegarden 2001 Kathleen's Vineyard Sauvignon Blanc (Mendocino County)\",\n",
       "    'Vinoce 2001 Sauvignon Blanc (Rutherford)']}),\n",
       " ('Chardonnay',\n",
       "  {'Cheese': {'mild': 0,\n",
       "    'semi-soft cheeses with unoaked Chardonnay; asiago': 0,\n",
       "    'havarti': 1,\n",
       "    'Stilton or other blue-veined cheeses with oaky Chardonnay': 0},\n",
       "   'Nuts': {'almonds and nearly any toasted nut': 0},\n",
       "   'Meat/poultry': {'veal': 31, 'chicken': 982, 'pork': 300},\n",
       "   'Seafood': {'halibut': 26, 'shrimp': 912, 'crab': 37, 'lobster': 50},\n",
       "   'Fruits and Veggies': {'potato': 0, 'apple': 0, 'squash': 32, 'mango': 268},\n",
       "   'Herbs and Spices': {'tarragon': 35, 'sesame': 26, 'basil': 282},\n",
       "   'Sauces': {'cream sauces': 0, 'pesto': 118},\n",
       "   'Desserts': {'banana bread': 1, 'vanilla pudding': 5},\n",
       "   'Names': ['Mirassou 2012 Chardonnay (Central Coast)',\n",
       "    'RustRidge 2010 Estate Bottled Chardonnay (Napa Valley)',\n",
       "    'Souverain 2010 Chardonnay (North Coast)',\n",
       "    'Simonnet-Febvre 2015  Chablis',\n",
       "    'Vignerons des Terres Secrètes 2015  Mâcon-Milly Lamartine',\n",
       "    'Drumheller 2014 Chardonnay (Columbia Valley (WA))',\n",
       "    'Yalumba 2016 Made With Organic Grapes Chardonnay (South Australia)',\n",
       "    'Leyda 2015 Single Vineyard Falaris Hill Chardonnay (Leyda Valley)',\n",
       "    'Pull 2013 Chardonnay (Paso Robles)',\n",
       "    'Matrix 2007 Stuhlmuller Vineyard Chardonnay (Alexander Valley)']})]"
      ]
     },
     "execution_count": 45,
     "metadata": {},
     "output_type": "execute_result"
    }
   ],
   "source": [
    "import pandas as pd\n",
    "winemag = pd.read_csv(\"./data/winemag-data-130k-v2.csv\", index_col = 0)\n",
    "\n",
    "for wine in wines:\n",
    "    tempdf = winemag[winemag[\"variety\"] == wine]\n",
    "    winelist = list(tempdf[\"title\"])\n",
    "    wines[wine][\"Names\"] = winelist[:10]\n",
    "wines\n",
    "limit3 = wines.items()\n",
    "list(limit3)[:2]"
   ]
  },
  {
   "cell_type": "markdown",
   "metadata": {},
   "source": [
    "We will write a function which allows the user to input a list of ingredients and also a choice of ingredient category (such as \"Cheese/nuts\"), and outputs a list of all wine names that pair with these ingredients. Due to memory constraints, this function won't incorporate the additional ingredients we obtained from the Kaggle dataset."
   ]
  },
  {
   "cell_type": "code",
   "execution_count": 46,
   "metadata": {},
   "outputs": [
    {
     "data": {
      "text/plain": [
       "[['Envolve 2011 Sauvignon Blanc (Sonoma Valley)',\n",
       "  'Robert Hall 2011 Sauvignon Blanc (Paso Robles)',\n",
       "  'Trump 2011 Sauvignon Blanc (Monticello)',\n",
       "  'Sevtap 2015 Golden Horn Sauvignon Blanc (Santa Ynez Valley)',\n",
       "  'Stoneleigh 2008 Sauvignon Blanc (Marlborough)',\n",
       "  'Long Flat 2006 Destinations Sauvignon Blanc (Adelaide Hills)',\n",
       "  'Elena Walch 2002 Castel Ringberg Sauvignon Blanc (Alto Adige)',\n",
       "  'Borgo Conventi 2002 I Fiori del Borgo Sauvignon Blanc (Collio)',\n",
       "  \"Ceago Vinegarden 2001 Kathleen's Vineyard Sauvignon Blanc (Mendocino County)\",\n",
       "  'Vinoce 2001 Sauvignon Blanc (Rutherford)']]"
      ]
     },
     "execution_count": 46,
     "metadata": {},
     "output_type": "execute_result"
    }
   ],
   "source": [
    "def getwines(category, ingredient_list):\n",
    "    wineout = []\n",
    "    ingset = set(ingredient_list)\n",
    "    for wine in wines:\n",
    "        if category in wines[wine]:\n",
    "            ingset2 = set(wines[wine][category].keys())\n",
    "            if (ingset.issubset(ingset2)):\n",
    "                wineout.append(wines[wine][\"Names\"])\n",
    "    if len(wineout) == 0:\n",
    "        print(\"Sorry no wines for you\")\n",
    "        return\n",
    "    else:\n",
    "        return wineout\n",
    "getwines(\"Cheese/nuts\", [\"feta\", \"goat cheese\"])"
   ]
  }
 ],
 "metadata": {
  "kernelspec": {
   "display_name": "Python 3",
   "language": "python",
   "name": "python3"
  },
  "language_info": {
   "codemirror_mode": {
    "name": "ipython",
    "version": 3
   },
   "file_extension": ".py",
   "mimetype": "text/x-python",
   "name": "python",
   "nbconvert_exporter": "python",
   "pygments_lexer": "ipython3",
   "version": "3.8.5"
  }
 },
 "nbformat": 4,
 "nbformat_minor": 2
}
